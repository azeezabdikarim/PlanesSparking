{
 "cells": [
  {
   "cell_type": "code",
   "execution_count": 36,
   "metadata": {},
   "outputs": [],
   "source": [
    "import findspark\n",
    "from pyspark import SparkContext, SparkConf\n",
    "from pyspark.sql import SparkSession\n",
    "from pyspark.sql.types import IntegerType\n",
    "from pyspark.sql.functions import isnan, when, count, col\n",
    "\n",
    "\n",
    "findspark.init('/Users/AzeezA/opt/spark-3.2.0/')\n",
    "\n",
    "conf = SparkConf().setMaster(\"local\").setAppName(\"planes\")\n",
    "sc = SparkContext.getOrCreate(conf=conf)\n",
    "\n",
    "spark = SparkSession.builder.getOrCreate()"
   ]
  },
  {
   "cell_type": "code",
   "execution_count": 2,
   "metadata": {},
   "outputs": [
    {
     "name": "stdout",
     "output_type": "stream",
     "text": [
      "\n",
      "Year,Month,DayofMonth,DayOfWeek,DepTime,CRSDepTime,ArrTime,CRSArrTime,UniqueCarrier,FlightNum,TailNum,ActualElapsedTime,CRSElapsedTime,AirTime,ArrDelay,DepDelay,Origin,Dest,Distance,TaxiIn,TaxiOut,Cancelled,CancellationCode,Diverted,CarrierDelay,WeatherDelay,NASDelay,SecurityDelay,LateAircraftDelay\n",
      "1988,1,9,6,1348,1331,1458,1435,PI,942,NA,70,64,NA,23,17,SYR,BWI,273,NA,NA,0,NA,0,NA,NA,NA,NA,NA\n",
      "1988,1,10,7,1334,1331,1443,1435,PI,942,NA,69,64,NA,8,3,SYR,BWI,273,NA,NA,0,NA,0,NA,NA,NA,NA,NA\n",
      "1988,1,11,1,1446,1331,1553,1435,PI,942,NA,67,64,NA,78,75,SYR,BWI,273,NA,NA,0,NA,0,NA,NA,NA,NA,NA\n",
      "1988,1,12,2,1334,1331,1438,1435,PI,942,NA,64,64,NA,3,3,SYR,BWI,273,NA,NA,0,NA,0,NA,NA,NA,NA,NA\n",
      "1988,1,13,3,1341,1331,1503,1435,PI,942,NA,82,64,NA,28,10,SYR,BWI,273,NA,NA,0,NA,0,NA,NA,NA,NA,NA\n",
      "1988,1,14,4,1332,1331,1447,1435,PI,942,NA,75,64,NA,12,1,SYR,BWI,273,NA,NA,0,NA,0,NA,NA,NA,NA,NA\n",
      "1988,1,15,5,1331,1331,1434,1435,PI,942,NA,63,64,NA,-1,0,SYR,BWI,273,NA,NA,0,NA,0,NA,NA,NA,NA,NA\n",
      "1988,1,16,6,1327,1331,1427,1435,PI,942,NA,60,64,NA,-8,-4,SYR,BWI,273,NA,NA,0,NA,0,NA,NA,NA,NA,NA\n",
      "1988,1,17,7,1331,1331,1440,1435,PI,942,NA,69,64,NA,5,0,SYR,BWI,273,NA,NA,0,NA,0,NA,NA,NA,NA,NA\n"
     ]
    }
   ],
   "source": [
    "planes = sc.textFile(\"/Users/AzeezA/Google\\ Drive/Life/2021/UPM/Big\\ Data/Planes/1988.csv.bz2\")\n",
    "# planes = sc.textFile(\"hdfs://localhost:9000/temp/1988.csv.bz2\")  //if file exists in HDFS use this line\n",
    "\n",
    "\n",
    "print()\n",
    "ten_lines = planes.take(10)\n",
    "for l in ten_lines:\n",
    "    print(l)"
   ]
  },
  {
   "cell_type": "code",
   "execution_count": 3,
   "metadata": {},
   "outputs": [
    {
     "name": "stdout",
     "output_type": "stream",
     "text": [
      "['Year', 'Month', 'DayofMonth', 'DayOfWeek', 'DepTime', 'CRSDepTime', 'ArrTime', 'CRSArrTime', 'UniqueCarrier', 'FlightNum', 'TailNum', 'ActualElapsedTime', 'CRSElapsedTime', 'AirTime', 'ArrDelay', 'DepDelay', 'Origin', 'Dest', 'Distance', 'TaxiIn', 'TaxiOut', 'Cancelled', 'CancellationCode', 'Diverted', 'CarrierDelay', 'WeatherDelay', 'NASDelay', 'SecurityDelay', 'LateAircraftDelay']\n"
     ]
    }
   ],
   "source": [
    "print(planes.take(1)[0].split(','))"
   ]
  },
  {
   "cell_type": "code",
   "execution_count": 4,
   "metadata": {},
   "outputs": [
    {
     "name": "stdout",
     "output_type": "stream",
     "text": [
      "(5202096, 29)\n"
     ]
    }
   ],
   "source": [
    "column_names = planes.take(1)[0].split(',')\n",
    "\n",
    "header = planes.first()\n",
    "planes_no_header = planes.filter(lambda line: line != header)\n",
    "\n",
    "split_planes = planes_no_header.map(lambda x : x.split(','))\n",
    "\n",
    "full_planes_df = spark.createDataFrame(split_planes, schema = column_names)\n",
    "print((full_planes_df.count(), len(full_planes_df.columns)))"
   ]
  },
  {
   "cell_type": "code",
   "execution_count": 134,
   "metadata": {},
   "outputs": [
    {
     "name": "stdout",
     "output_type": "stream",
     "text": [
      "['Year', 'Month', 'DayofMonth', 'DayOfWeek', 'DepTime', 'CRSDepTime', 'ArrTime', 'CRSArrTime', 'UniqueCarrier', 'FlightNum', 'TailNum', 'ActualElapsedTime', 'CRSElapsedTime', 'AirTime', 'ArrDelay', 'DepDelay', 'Origin', 'Dest', 'Distance', 'TaxiIn', 'TaxiOut', 'Cancelled', 'CancellationCode', 'Diverted', 'CarrierDelay', 'WeatherDelay', 'NASDelay', 'SecurityDelay', 'LateAircraftDelay']\n",
      "29\n",
      "\n",
      "\n",
      "('Year', 'int')\n",
      "('Month', 'int')\n",
      "('DayofMonth', 'int')\n",
      "('DayOfWeek', 'int')\n",
      "('DepTime', 'int')\n",
      "('CRSDepTime', 'int')\n",
      "('CRSArrTime', 'int')\n",
      "('UniqueCarrier', 'string')\n",
      "('FlightNum', 'int')\n",
      "('TailNum', 'int')\n",
      "('CRSElapsedTime', 'int')\n",
      "('ArrDelay', 'int')\n",
      "('DepDelay', 'int')\n",
      "('Origin', 'string')\n",
      "('Dest', 'string')\n",
      "('Distance', 'int')\n",
      "('TaxiOut', 'int')\n",
      "('Cancelled', 'int')\n",
      "('CancellationCode', 'int')\n",
      "+-------+-------+-----------------+-----------------+------------------+------------------+------------------+\n",
      "|summary|   Year|            Month|       DayofMonth|         DayOfWeek|           DepTime|        CRSDepTime|\n",
      "+-------+-------+-----------------+-----------------+------------------+------------------+------------------+\n",
      "|  count|5202096|          5202096|          5202096|           5202096|           5151933|           5202096|\n",
      "|   mean| 1988.0|6.508971383842205|15.75753676979433|3.9543607038393755|1363.7786636588635|1357.0670687353713|\n",
      "| stddev|    0.0|3.445200923380857| 8.79863450453106| 1.987931044259369|475.51346855411026| 469.7043265949108|\n",
      "|    min|   1988|                1|                1|                 1|                 1|                 1|\n",
      "|    25%|   1988|                4|                8|                 2|               944|               940|\n",
      "|    50%|   1988|                7|               16|                 4|              1340|              1335|\n",
      "|    75%|   1988|                9|               23|                 6|              1748|              1740|\n",
      "|    max|   1988|               12|               31|                 7|              2400|              2400|\n",
      "+-------+-------+-----------------+-----------------+------------------+------------------+------------------+\n",
      "\n",
      "None\n",
      "+-------+------------------+-------------+-----------------+-------+------------------+-----------------+\n",
      "|summary|        CRSArrTime|UniqueCarrier|        FlightNum|TailNum|    CRSElapsedTime|         ArrDelay|\n",
      "+-------+------------------+-------------+-----------------+-------+------------------+-----------------+\n",
      "|  count|           5202096|      5202096|          5202096|      0|           5202096|          5137497|\n",
      "|   mean|1493.3827745585625|         null|  687.01381308611|   null|103.98662154639207|6.547350003318737|\n",
      "| stddev| 483.7890339110269|         null|518.6402297291638|   null| 61.73843657618066|23.32517071595116|\n",
      "|    min|                 1|           AA|                1|   null|               -52|            -1185|\n",
      "|    25%|              1117|         null|              296|   null|                61|               -5|\n",
      "|    50%|              1519|         null|              578|   null|                85|                2|\n",
      "|    75%|              1911|         null|              939|   null|               132|               11|\n",
      "|    max|              2400|           WN|             6189|   null|              1560|             1394|\n",
      "+-------+------------------+-------------+-----------------+-------+------------------+-----------------+\n",
      "\n",
      "None\n",
      "+-------+-----------------+-------+-------+-----------------+-------+--------------------+----------------+\n",
      "|summary|         DepDelay| Origin|   Dest|         Distance|TaxiOut|           Cancelled|CancellationCode|\n",
      "+-------+-----------------+-------+-------+-----------------+-------+--------------------+----------------+\n",
      "|  count|          5151933|5202096|5202096|          5190994|      0|             5202096|               0|\n",
      "|   mean|6.706767731645578|   null|   null|601.5666221151479|   null|0.009642843961357115|            null|\n",
      "| stddev|21.77714438187012|   null|   null|501.0999768055178|   null| 0.09772339206897161|            null|\n",
      "|    min|            -1000|    ABE|    ABE|               10|   null|                   0|            null|\n",
      "|    25%|                0|   null|   null|              256|   null|                   0|            null|\n",
      "|    50%|                0|   null|   null|              432|   null|                   0|            null|\n",
      "|    75%|                5|   null|   null|              813|   null|                   0|            null|\n",
      "|    max|             1439|    YUM|    YUM|             4983|   null|                   1|            null|\n",
      "+-------+-----------------+-------+-------+-----------------+-------+--------------------+----------------+\n",
      "\n",
      "None\n",
      "CPU times: user 75.4 ms, sys: 58.6 ms, total: 134 ms\n",
      "Wall time: 5min 43s\n"
     ]
    }
   ],
   "source": [
    "%%time\n",
    "print(full_planes_df.columns)\n",
    "print(len(full_planes_df.columns))\n",
    "print()\n",
    "print()\n",
    "# print(planes_df.dtypes)\n",
    "\n",
    "excluded_cols = ['ArrTime', 'ActualElapsedTime', 'AirTime', 'TaxiIn', 'Diverted',\n",
    "                   'CarrierDelay', 'WeatherDelay', 'NASDelay', 'SecurityDelay', 'LateAircraftDelay']\n",
    "int_cols = ['Year', 'Month', 'DayofMonth', 'DayOfWeek', 'DepTime', 'CRSDepTime', 'CRSArrTime', 'FlightNum', \n",
    "            'TailNum', 'CRSElapsedTime', 'DepDelay', 'Distance', 'TaxiOut', 'Cancelled', 'CancellationCode', 'ArrDelay']\n",
    "cat_cols = ['UniqueCarrier', 'Orig', 'Dest']\n",
    "\n",
    "\n",
    "target_col = 'ArrDelay'\n",
    "\n",
    "target_df = full_planes_df.select(target_col)\n",
    "planes_df = full_planes_df.drop(*excluded_cols)\n",
    "\n",
    "for i in int_cols:\n",
    "    planes_df = planes_df.withColumn(i , planes_df[i].cast(IntegerType()))\n",
    "\n",
    "\n",
    "full_planes_df.createOrReplaceTempView(\"FULL_DF\")\n",
    "planes_df.createOrReplaceTempView(\"FLIGHT_LIST\")\n",
    "target_df.createOrReplaceTempView(\"TRGT_LIST\")\n",
    "\n",
    "print('\\n'.join(str(line) for line in planes_df.dtypes))\n",
    "\n",
    "print(planes_df.select(planes_df.columns[:6]).summary().show())\n",
    "print(planes_df.select(planes_df.columns[6:12]).summary().show())\n",
    "print(planes_df.select(planes_df.columns[12:19]).summary().show())"
   ]
  },
  {
   "cell_type": "markdown",
   "metadata": {},
   "source": [
    "### Average Delays\n",
    "#### From Arrivals"
   ]
  },
  {
   "cell_type": "code",
   "execution_count": 136,
   "metadata": {},
   "outputs": [
    {
     "name": "stdout",
     "output_type": "stream",
     "text": [
      "+------+---------+---------------+\n",
      "|Origin|avg_delay|count(ArrDelay)|\n",
      "+------+---------+---------------+\n",
      "|   ROP|    178.0|              1|\n",
      "|   ACV|    33.79|             19|\n",
      "|   RDD|     25.0|             19|\n",
      "|   YAP|     20.9|            235|\n",
      "|   BFI|     20.0|              1|\n",
      "|   HDN|    17.54|            453|\n",
      "|   ROR|    13.57|            368|\n",
      "|   DET|    13.12|           2002|\n",
      "|   JNU|    11.53|           3349|\n",
      "|   JFK|     11.5|          51485|\n",
      "|   CLT|    11.32|         101093|\n",
      "|   SIT|    10.71|           1371|\n",
      "|   PSG|    10.65|            664|\n",
      "|   MDW|    10.55|          19447|\n",
      "|   PIT|    10.29|         118068|\n",
      "|   ERI|    10.12|           2285|\n",
      "|   GUC|     9.79|            153|\n",
      "|   DAY|     9.63|          35562|\n",
      "|   KTN|     9.62|           2211|\n",
      "|   VPS|     9.59|           1262|\n",
      "|   ACY|     9.59|            447|\n",
      "|   MHT|     9.28|           2800|\n",
      "|   GST|     9.13|             86|\n",
      "|   GUM|     9.11|           1733|\n",
      "|   MSP|     9.02|          95265|\n",
      "|   SPN|     8.98|           1166|\n",
      "|   ORD|     8.86|         271494|\n",
      "|   EWR|     8.84|         125333|\n",
      "|   SBA|     8.76|           3270|\n",
      "|   GPT|     8.75|           1130|\n",
      "|   MCO|     8.75|          72723|\n",
      "|   PSP|     8.72|           5092|\n",
      "|   BOS|     8.62|          99921|\n",
      "|   ISP|     8.44|           7570|\n",
      "|   HNL|     8.36|          15662|\n",
      "|   DTW|     8.23|         108114|\n",
      "|   HPN|     8.21|           2212|\n",
      "|   PVD|     8.21|          12678|\n",
      "|   BWI|     8.14|          67672|\n",
      "|   PHL|     8.03|          84069|\n",
      "|   FLL|     7.97|          39978|\n",
      "|   PWM|     7.97|           7264|\n",
      "|   ORF|     7.95|          27048|\n",
      "|   MFE|     7.91|           1689|\n",
      "|   DLH|     7.88|           1377|\n",
      "|   YAK|     7.81|            638|\n",
      "|   WRG|     7.77|            666|\n",
      "|   ORH|     7.76|           2859|\n",
      "|   STL|     7.74|         127429|\n",
      "|   MDT|     7.72|           6683|\n",
      "+------+---------+---------------+\n",
      "only showing top 50 rows\n",
      "\n",
      "CPU times: user 6.02 ms, sys: 4.17 ms, total: 10.2 ms\n",
      "Wall time: 1min 1s\n"
     ]
    }
   ],
   "source": [
    "%%time\n",
    "spark.sql(\"\"\"SELECT\n",
    "                Origin, round(avg(ArrDelay), 2) as avg_delay, count(ArrDelay) from FULL_DF group by 1 order by 2 desc;\"\"\").show(n= 50)"
   ]
  },
  {
   "cell_type": "markdown",
   "metadata": {},
   "source": [
    "#### From Departures"
   ]
  },
  {
   "cell_type": "code",
   "execution_count": 137,
   "metadata": {},
   "outputs": [
    {
     "name": "stdout",
     "output_type": "stream",
     "text": [
      "+----+-----------------------+---------------+\n",
      "|Dest|round(avg(ArrDelay), 2)|count(ArrDelay)|\n",
      "+----+-----------------------+---------------+\n",
      "| RDD|                  34.61|             18|\n",
      "| ACV|                  31.67|             18|\n",
      "| YAP|                  17.68|            228|\n",
      "| ACY|                  16.11|            433|\n",
      "| DET|                  13.67|           1959|\n",
      "| ROR|                  12.53|            355|\n",
      "| ERI|                  11.99|           2175|\n",
      "| EVV|                  11.22|           2543|\n",
      "| SPN|                  10.89|           1116|\n",
      "| FNT|                  10.76|           1331|\n",
      "| EWR|                  10.65|         126216|\n",
      "| AVL|                  10.59|           2292|\n",
      "| KTN|                  10.49|           2183|\n",
      "| CDV|                  10.39|            645|\n",
      "| SIT|                  10.38|           1370|\n",
      "| EUG|                  10.36|           3567|\n",
      "| UCA|                  10.27|           1028|\n",
      "| PSG|                  10.21|            650|\n",
      "| ALB|                  10.01|          12239|\n",
      "| LYH|                   9.93|           1493|\n",
      "| AVP|                   9.86|           2187|\n",
      "| ISP|                   9.83|           7491|\n",
      "| WRG|                   9.73|            657|\n",
      "| FAY|                   9.65|           4217|\n",
      "| CAK|                   9.61|           3996|\n",
      "| MYR|                    9.6|           3749|\n",
      "| MFR|                   9.49|           2158|\n",
      "| ANC|                   9.44|          13556|\n",
      "| GST|                   9.42|             84|\n",
      "| TRI|                   9.41|           3144|\n",
      "| HPN|                    9.4|           2152|\n",
      "| GRR|                   9.37|          10181|\n",
      "| FAI|                   9.33|           3456|\n",
      "| YAK|                    9.2|            627|\n",
      "| JFK|                    9.2|          52086|\n",
      "| OAJ|                   9.04|           1779|\n",
      "| ELM|                   9.02|           2727|\n",
      "| LGA|                   8.91|         114030|\n",
      "| SFO|                    8.9|         130042|\n",
      "| ABE|                   8.85|           4841|\n",
      "| GFK|                   8.85|           1030|\n",
      "| MCO|                   8.83|          72481|\n",
      "| PVD|                   8.77|          12293|\n",
      "| STT|                   8.77|           3130|\n",
      "| MDT|                   8.74|           6501|\n",
      "| PHL|                   8.67|          83796|\n",
      "| RIC|                    8.6|          17580|\n",
      "| CRW|                   8.57|           4702|\n",
      "| DAY|                   8.53|          35553|\n",
      "| GUC|                   8.48|            149|\n",
      "+----+-----------------------+---------------+\n",
      "only showing top 50 rows\n",
      "\n",
      "CPU times: user 7.55 ms, sys: 4.46 ms, total: 12 ms\n",
      "Wall time: 1min 16s\n"
     ]
    }
   ],
   "source": [
    "%%time\n",
    "spark.sql(\"\"\"SELECT\n",
    "                Dest, round(avg(ArrDelay), 2), count(ArrDelay) from FULL_DF group by 1 order by 2 desc;\"\"\").show(n= 50)"
   ]
  },
  {
   "cell_type": "markdown",
   "metadata": {},
   "source": [
    "#### Arrival -> Departure Pairs (aka Average delay for a specific route)"
   ]
  },
  {
   "cell_type": "code",
   "execution_count": 135,
   "metadata": {},
   "outputs": [
    {
     "ename": "AnalysisException",
     "evalue": "cannot resolve 'rt_count' given input columns: [full_df.ActualElapsedTime, full_df.AirTime, full_df.ArrDelay, full_df.ArrTime, full_df.CRSArrTime, full_df.CRSDepTime, full_df.CRSElapsedTime, full_df.CancellationCode, full_df.Cancelled, full_df.CarrierDelay, full_df.DayOfWeek, full_df.DayofMonth, full_df.DepDelay, full_df.DepTime, full_df.Dest, full_df.Distance, full_df.Diverted, full_df.FlightNum, full_df.LateAircraftDelay, full_df.Month, full_df.NASDelay, full_df.Origin, full_df.SecurityDelay, full_df.TailNum, full_df.TaxiIn, full_df.TaxiOut, full_df.UniqueCarrier, full_df.WeatherDelay, full_df.Year]; line 2 pos 102;\n'Sort [unresolvedordinal(3) DESC NULLS LAST], true\n+- 'Aggregate [unresolvedordinal(1), unresolvedordinal(2)], ['Origin, 'Dest, unresolvedalias('round('avg('ArrDelay), 2), None), 'count('ArrDelay) AS rt_count#12182]\n   +- 'Filter ('rt_count > 15)\n      +- SubqueryAlias full_df\n         +- View (`FULL_DF`, [Year#0,Month#1,DayofMonth#2,DayOfWeek#3,DepTime#4,CRSDepTime#5,ArrTime#6,CRSArrTime#7,UniqueCarrier#8,FlightNum#9,TailNum#10,ActualElapsedTime#11,CRSElapsedTime#12,AirTime#13,ArrDelay#14,DepDelay#15,Origin#16,Dest#17,Distance#18,TaxiIn#19,TaxiOut#20,Cancelled#21,CancellationCode#22,Diverted#23,CarrierDelay#24,WeatherDelay#25,NASDelay#26,SecurityDelay#27,LateAircraftDelay#28])\n            +- LogicalRDD [Year#0, Month#1, DayofMonth#2, DayOfWeek#3, DepTime#4, CRSDepTime#5, ArrTime#6, CRSArrTime#7, UniqueCarrier#8, FlightNum#9, TailNum#10, ActualElapsedTime#11, CRSElapsedTime#12, AirTime#13, ArrDelay#14, DepDelay#15, Origin#16, Dest#17, Distance#18, TaxiIn#19, TaxiOut#20, Cancelled#21, CancellationCode#22, Diverted#23, ... 5 more fields], false\n",
     "output_type": "error",
     "traceback": [
      "\u001b[0;31m---------------------------------------------------------------------------\u001b[0m",
      "\u001b[0;31mAnalysisException\u001b[0m                         Traceback (most recent call last)",
      "\u001b[0;32m<timed exec>\u001b[0m in \u001b[0;36m<module>\u001b[0;34m\u001b[0m\n",
      "\u001b[0;32m~/opt/anaconda3/lib/python3.7/site-packages/pyspark/sql/session.py\u001b[0m in \u001b[0;36msql\u001b[0;34m(self, sqlQuery)\u001b[0m\n\u001b[1;32m    721\u001b[0m         \u001b[0;34m[\u001b[0m\u001b[0mRow\u001b[0m\u001b[0;34m(\u001b[0m\u001b[0mf1\u001b[0m\u001b[0;34m=\u001b[0m\u001b[0;36m1\u001b[0m\u001b[0;34m,\u001b[0m \u001b[0mf2\u001b[0m\u001b[0;34m=\u001b[0m\u001b[0;34m'row1'\u001b[0m\u001b[0;34m)\u001b[0m\u001b[0;34m,\u001b[0m \u001b[0mRow\u001b[0m\u001b[0;34m(\u001b[0m\u001b[0mf1\u001b[0m\u001b[0;34m=\u001b[0m\u001b[0;36m2\u001b[0m\u001b[0;34m,\u001b[0m \u001b[0mf2\u001b[0m\u001b[0;34m=\u001b[0m\u001b[0;34m'row2'\u001b[0m\u001b[0;34m)\u001b[0m\u001b[0;34m,\u001b[0m \u001b[0mRow\u001b[0m\u001b[0;34m(\u001b[0m\u001b[0mf1\u001b[0m\u001b[0;34m=\u001b[0m\u001b[0;36m3\u001b[0m\u001b[0;34m,\u001b[0m \u001b[0mf2\u001b[0m\u001b[0;34m=\u001b[0m\u001b[0;34m'row3'\u001b[0m\u001b[0;34m)\u001b[0m\u001b[0;34m]\u001b[0m\u001b[0;34m\u001b[0m\u001b[0;34m\u001b[0m\u001b[0m\n\u001b[1;32m    722\u001b[0m         \"\"\"\n\u001b[0;32m--> 723\u001b[0;31m         \u001b[0;32mreturn\u001b[0m \u001b[0mDataFrame\u001b[0m\u001b[0;34m(\u001b[0m\u001b[0mself\u001b[0m\u001b[0;34m.\u001b[0m\u001b[0m_jsparkSession\u001b[0m\u001b[0;34m.\u001b[0m\u001b[0msql\u001b[0m\u001b[0;34m(\u001b[0m\u001b[0msqlQuery\u001b[0m\u001b[0;34m)\u001b[0m\u001b[0;34m,\u001b[0m \u001b[0mself\u001b[0m\u001b[0;34m.\u001b[0m\u001b[0m_wrapped\u001b[0m\u001b[0;34m)\u001b[0m\u001b[0;34m\u001b[0m\u001b[0;34m\u001b[0m\u001b[0m\n\u001b[0m\u001b[1;32m    724\u001b[0m \u001b[0;34m\u001b[0m\u001b[0m\n\u001b[1;32m    725\u001b[0m     \u001b[0;32mdef\u001b[0m \u001b[0mtable\u001b[0m\u001b[0;34m(\u001b[0m\u001b[0mself\u001b[0m\u001b[0;34m,\u001b[0m \u001b[0mtableName\u001b[0m\u001b[0;34m)\u001b[0m\u001b[0;34m:\u001b[0m\u001b[0;34m\u001b[0m\u001b[0;34m\u001b[0m\u001b[0m\n",
      "\u001b[0;32m~/opt/anaconda3/lib/python3.7/site-packages/py4j/java_gateway.py\u001b[0m in \u001b[0;36m__call__\u001b[0;34m(self, *args)\u001b[0m\n\u001b[1;32m   1308\u001b[0m         \u001b[0manswer\u001b[0m \u001b[0;34m=\u001b[0m \u001b[0mself\u001b[0m\u001b[0;34m.\u001b[0m\u001b[0mgateway_client\u001b[0m\u001b[0;34m.\u001b[0m\u001b[0msend_command\u001b[0m\u001b[0;34m(\u001b[0m\u001b[0mcommand\u001b[0m\u001b[0;34m)\u001b[0m\u001b[0;34m\u001b[0m\u001b[0;34m\u001b[0m\u001b[0m\n\u001b[1;32m   1309\u001b[0m         return_value = get_return_value(\n\u001b[0;32m-> 1310\u001b[0;31m             answer, self.gateway_client, self.target_id, self.name)\n\u001b[0m\u001b[1;32m   1311\u001b[0m \u001b[0;34m\u001b[0m\u001b[0m\n\u001b[1;32m   1312\u001b[0m         \u001b[0;32mfor\u001b[0m \u001b[0mtemp_arg\u001b[0m \u001b[0;32min\u001b[0m \u001b[0mtemp_args\u001b[0m\u001b[0;34m:\u001b[0m\u001b[0;34m\u001b[0m\u001b[0;34m\u001b[0m\u001b[0m\n",
      "\u001b[0;32m~/opt/anaconda3/lib/python3.7/site-packages/pyspark/sql/utils.py\u001b[0m in \u001b[0;36mdeco\u001b[0;34m(*a, **kw)\u001b[0m\n\u001b[1;32m    115\u001b[0m                 \u001b[0;31m# Hide where the exception came from that shows a non-Pythonic\u001b[0m\u001b[0;34m\u001b[0m\u001b[0;34m\u001b[0m\u001b[0;34m\u001b[0m\u001b[0m\n\u001b[1;32m    116\u001b[0m                 \u001b[0;31m# JVM exception message.\u001b[0m\u001b[0;34m\u001b[0m\u001b[0;34m\u001b[0m\u001b[0;34m\u001b[0m\u001b[0m\n\u001b[0;32m--> 117\u001b[0;31m                 \u001b[0;32mraise\u001b[0m \u001b[0mconverted\u001b[0m \u001b[0;32mfrom\u001b[0m \u001b[0;32mNone\u001b[0m\u001b[0;34m\u001b[0m\u001b[0;34m\u001b[0m\u001b[0m\n\u001b[0m\u001b[1;32m    118\u001b[0m             \u001b[0;32melse\u001b[0m\u001b[0;34m:\u001b[0m\u001b[0;34m\u001b[0m\u001b[0;34m\u001b[0m\u001b[0m\n\u001b[1;32m    119\u001b[0m                 \u001b[0;32mraise\u001b[0m\u001b[0;34m\u001b[0m\u001b[0;34m\u001b[0m\u001b[0m\n",
      "\u001b[0;31mAnalysisException\u001b[0m: cannot resolve 'rt_count' given input columns: [full_df.ActualElapsedTime, full_df.AirTime, full_df.ArrDelay, full_df.ArrTime, full_df.CRSArrTime, full_df.CRSDepTime, full_df.CRSElapsedTime, full_df.CancellationCode, full_df.Cancelled, full_df.CarrierDelay, full_df.DayOfWeek, full_df.DayofMonth, full_df.DepDelay, full_df.DepTime, full_df.Dest, full_df.Distance, full_df.Diverted, full_df.FlightNum, full_df.LateAircraftDelay, full_df.Month, full_df.NASDelay, full_df.Origin, full_df.SecurityDelay, full_df.TailNum, full_df.TaxiIn, full_df.TaxiOut, full_df.UniqueCarrier, full_df.WeatherDelay, full_df.Year]; line 2 pos 102;\n'Sort [unresolvedordinal(3) DESC NULLS LAST], true\n+- 'Aggregate [unresolvedordinal(1), unresolvedordinal(2)], ['Origin, 'Dest, unresolvedalias('round('avg('ArrDelay), 2), None), 'count('ArrDelay) AS rt_count#12182]\n   +- 'Filter ('rt_count > 15)\n      +- SubqueryAlias full_df\n         +- View (`FULL_DF`, [Year#0,Month#1,DayofMonth#2,DayOfWeek#3,DepTime#4,CRSDepTime#5,ArrTime#6,CRSArrTime#7,UniqueCarrier#8,FlightNum#9,TailNum#10,ActualElapsedTime#11,CRSElapsedTime#12,AirTime#13,ArrDelay#14,DepDelay#15,Origin#16,Dest#17,Distance#18,TaxiIn#19,TaxiOut#20,Cancelled#21,CancellationCode#22,Diverted#23,CarrierDelay#24,WeatherDelay#25,NASDelay#26,SecurityDelay#27,LateAircraftDelay#28])\n            +- LogicalRDD [Year#0, Month#1, DayofMonth#2, DayOfWeek#3, DepTime#4, CRSDepTime#5, ArrTime#6, CRSArrTime#7, UniqueCarrier#8, FlightNum#9, TailNum#10, ActualElapsedTime#11, CRSElapsedTime#12, AirTime#13, ArrDelay#14, DepDelay#15, Origin#16, Dest#17, Distance#18, TaxiIn#19, TaxiOut#20, Cancelled#21, CancellationCode#22, Diverted#23, ... 5 more fields], false\n"
     ]
    }
   ],
   "source": [
    "%%time\n",
    "route_delays = spark.sql(\"\"\"SELECT\n",
    "                Origin, Dest, round(avg(ArrDelay), 2), count(ArrDelay) as rt_count from FULL_DF where rt_count > 15 group by 1,2 order by 3 desc;\"\"\")"
   ]
  },
  {
   "cell_type": "code",
   "execution_count": 24,
   "metadata": {},
   "outputs": [
    {
     "name": "stdout",
     "output_type": "stream",
     "text": [
      "+------+----+-----------------------+---------------+\n",
      "|Origin|Dest|round(avg(ArrDelay), 2)|count(ArrDelay)|\n",
      "+------+----+-----------------------+---------------+\n",
      "|   SYR| DEN|                  487.0|              1|\n",
      "|   ONT| SAT|                  322.0|              1|\n",
      "|   MDT| FLL|                  260.0|              1|\n",
      "|   ANC| SIT|                  219.0|              1|\n",
      "|   ROP| GUM|                  178.0|              1|\n",
      "|   IND| FWA|                  101.0|              1|\n",
      "|   CVG| MDT|                   93.0|              1|\n",
      "|   BOS| PVD|                   80.0|              1|\n",
      "|   CHS| PBI|                   76.0|              1|\n",
      "|   ICT| CPR|                   72.0|              1|\n",
      "|   BHM| MOB|                   67.0|              1|\n",
      "|   ANC| HNL|                   63.5|              2|\n",
      "|   EWR| ONT|                   57.0|              7|\n",
      "|   TUL| MSP|                   56.0|              1|\n",
      "|   TUS| ONT|                   53.0|              1|\n",
      "|   YKM| SFO|                   47.0|              1|\n",
      "|   PSP| BFL|                   45.0|              1|\n",
      "|   SFO| ACV|                  43.88|              8|\n",
      "|   JFK| EWR|                   42.0|              5|\n",
      "|   MIA| PHX|                   42.0|              1|\n",
      "+------+----+-----------------------+---------------+\n",
      "only showing top 20 rows\n",
      "\n",
      "None\n"
     ]
    }
   ],
   "source": [
    "print(route_delays.show())"
   ]
  },
  {
   "cell_type": "code",
   "execution_count": 45,
   "metadata": {},
   "outputs": [
    {
     "name": "stdout",
     "output_type": "stream",
     "text": [
      "-RECORD 0----------------\n",
      " Year              | 0   \n",
      " Month             | 0   \n",
      " DayofMonth        | 0   \n",
      " DayOfWeek         | 0   \n",
      " DepTime           | 0   \n",
      " CRSDepTime        | 0   \n",
      " ArrTime           | 0   \n",
      " CRSArrTime        | 0   \n",
      " UniqueCarrier     | 0   \n",
      " FlightNum         | 0   \n",
      " TailNum           | 0   \n",
      " ActualElapsedTime | 0   \n",
      " CRSElapsedTime    | 0   \n",
      " AirTime           | 0   \n",
      " ArrDelay          | 0   \n",
      " DepDelay          | 0   \n",
      " Origin            | 0   \n",
      " Dest              | 0   \n",
      " Distance          | 0   \n",
      " TaxiIn            | 0   \n",
      " TaxiOut           | 0   \n",
      " Cancelled         | 0   \n",
      " CancellationCode  | 0   \n",
      " Diverted          | 0   \n",
      " CarrierDelay      | 0   \n",
      " WeatherDelay      | 0   \n",
      " NASDelay          | 0   \n",
      " SecurityDelay     | 0   \n",
      " LateAircraftDelay | 0   \n",
      "\n"
     ]
    }
   ],
   "source": [
    "full_planes_df.select([count(when(isnan(c), c)).alias(c) for c in full_planes_df.columns]).show(vertical = True)\n"
   ]
  },
  {
   "cell_type": "code",
   "execution_count": 23,
   "metadata": {},
   "outputs": [
    {
     "name": "stdout",
     "output_type": "stream",
     "text": [
      "-RECORD 0----------------\n",
      " distinct_carriers | 14  \n",
      "\n"
     ]
    }
   ],
   "source": [
    "spark.sql(\"\"\"SELECT \n",
    "          count(distinct(UniqueCarrier)) as distinct_carriers from FLIGHT_LIST\"\"\").show(vertical = True)"
   ]
  },
  {
   "cell_type": "code",
   "execution_count": 25,
   "metadata": {},
   "outputs": [
    {
     "name": "stdout",
     "output_type": "stream",
     "text": [
      "-RECORD 0-------------------\n",
      " distinct_origin      | 238 \n",
      " distinct_destination | 236 \n",
      "\n"
     ]
    }
   ],
   "source": [
    "spark.sql(\"\"\"SELECT \n",
    "          count(distinct(Origin)) as distinct_origin, count(distinct(Dest)) as distinct_destination from FLIGHT_LIST\"\"\").show(vertical = True)"
   ]
  },
  {
   "cell_type": "code",
   "execution_count": 24,
   "metadata": {},
   "outputs": [
    {
     "name": "stdout",
     "output_type": "stream",
     "text": [
      "-RECORD 0----------------\n",
      " Year             | 1988 \n",
      " Month            | 1    \n",
      " DayofMonth       | 9    \n",
      " DayOfWeek        | 6    \n",
      " DepTime          | 1348 \n",
      " CRSDepTime       | 1331 \n",
      " CRSArrTime       | 1435 \n",
      " UniqueCarrier    | PI   \n",
      " FlightNum        | 942  \n",
      " TailNum          | NA   \n",
      " CRSElapsedTime   | 64   \n",
      " DepDelay         | 17   \n",
      " Origin           | SYR  \n",
      " Dest             | BWI  \n",
      " Distance         | 273  \n",
      " TaxiOut          | NA   \n",
      " Cancelled        | 0    \n",
      " CancellationCode | NA   \n",
      "only showing top 1 row\n",
      "\n"
     ]
    }
   ],
   "source": [
    "spark.sql(\"\"\"SELECT \n",
    "          * from FLIGHT_LIST\"\"\").show(vertical = True, n = 1)"
   ]
  },
  {
   "cell_type": "markdown",
   "metadata": {},
   "source": [
    "### Linear Regression Model"
   ]
  },
  {
   "cell_type": "code",
   "execution_count": 46,
   "metadata": {},
   "outputs": [
    {
     "data": {
      "text/plain": [
       "[('Year', 'int'),\n",
       " ('Month', 'int'),\n",
       " ('DayofMonth', 'int'),\n",
       " ('DayOfWeek', 'int'),\n",
       " ('DepTime', 'int'),\n",
       " ('CRSDepTime', 'int'),\n",
       " ('CRSArrTime', 'int'),\n",
       " ('UniqueCarrier', 'string'),\n",
       " ('FlightNum', 'int'),\n",
       " ('TailNum', 'int'),\n",
       " ('CRSElapsedTime', 'int'),\n",
       " ('ArrDelay', 'int'),\n",
       " ('DepDelay', 'int'),\n",
       " ('Origin', 'string'),\n",
       " ('Dest', 'string'),\n",
       " ('Distance', 'int'),\n",
       " ('TaxiOut', 'int'),\n",
       " ('Cancelled', 'int'),\n",
       " ('CancellationCode', 'int')]"
      ]
     },
     "execution_count": 46,
     "metadata": {},
     "output_type": "execute_result"
    }
   ],
   "source": [
    "planes_df.dtypes"
   ]
  },
  {
   "cell_type": "code",
   "execution_count": 124,
   "metadata": {},
   "outputs": [
    {
     "name": "stdout",
     "output_type": "stream",
     "text": [
      "5140882\n",
      "root\n",
      " |-- Month: integer (nullable = true)\n",
      " |-- DayofMonth: integer (nullable = true)\n",
      " |-- DayOfWeek: integer (nullable = true)\n",
      " |-- DepTime: integer (nullable = true)\n",
      " |-- CRSDepTime: integer (nullable = true)\n",
      " |-- CRSArrTime: integer (nullable = true)\n",
      " |-- CRSElapsedTime: integer (nullable = true)\n",
      " |-- DepDelay: integer (nullable = true)\n",
      " |-- Distance: integer (nullable = true)\n",
      " |-- ArrDelay: integer (nullable = true)\n",
      " |-- features: vector (nullable = true)\n",
      "\n",
      "None\n",
      "here\n",
      "5126498\n",
      "+--------------------+--------+\n",
      "|            features|ArrDelay|\n",
      "+--------------------+--------+\n",
      "|[1.0,9.0,6.0,1348...|      23|\n",
      "|[1.0,10.0,7.0,133...|       8|\n",
      "|[1.0,11.0,1.0,144...|      78|\n",
      "|[1.0,12.0,2.0,133...|       3|\n",
      "|[1.0,13.0,3.0,134...|      28|\n",
      "|[1.0,14.0,4.0,133...|      12|\n",
      "|[1.0,15.0,5.0,133...|      -1|\n",
      "|[1.0,16.0,6.0,132...|      -8|\n",
      "|[1.0,17.0,7.0,133...|       5|\n",
      "|[1.0,18.0,1.0,134...|      44|\n",
      "+--------------------+--------+\n",
      "\n"
     ]
    }
   ],
   "source": [
    "from pyspark.ml.feature import StandardScaler\n",
    "from pyspark.ml.feature import VectorAssembler\n",
    "\n",
    "\n",
    "training_cols = ['Month', 'DayofMonth', 'DayOfWeek', 'DepTime', 'CRSDepTime', 'CRSArrTime', 'CRSElapsedTime',\n",
    "                'DepDelay', 'Distance']\n",
    "\n",
    "target_col = 'ArrDelay'\n",
    "\n",
    "\n",
    "features = planes_df.select(training_cols + [target_col] )\n",
    "outputCol = 'features'\n",
    "\n",
    "df_va = VectorAssembler(inputCols = training_cols, outputCol = outputCol, handleInvalid=\"skip\")\n",
    "features = df_va.transform(features)\n",
    "\n",
    "\n",
    "#5202096\n",
    "print(features.count())\n",
    "print(features.printSchema())\n",
    "#5126498\n",
    "features = features.na.drop(subset = training_cols + [target_col, outputCol])\n",
    "\n",
    "model_data = features.select([outputCol, target_col])\n",
    "print(\"here\")\n",
    "print(features.count())\n",
    "\n",
    "# # # Use scaler of choice; here Standard scaler is used\n",
    "# scalar = StandardScaler(inputCol=\"vectored_features\", outputCol=\"scaled_vectored_features\")\n",
    "# scaled_features = scalar.fit(features)\n",
    "\n",
    "model_data.limit(10).show()\n"
   ]
  },
  {
   "cell_type": "code",
   "execution_count": 127,
   "metadata": {},
   "outputs": [
    {
     "name": "stdout",
     "output_type": "stream",
     "text": [
      "Coefficients:  [-0.0968474021005805,-0.01090305148691135,-0.26903680002202596,0.0041071381987276365,-0.004336729171509588,0.000584549619013383,-0.07724317785051543,0.8957983589395305,0.008226942559914047]\n",
      "Intercept:  5.012811209506352\n",
      "Coefficients:\n",
      "       Feature Estimate Std Error   T Value P Value\n",
      "   (Intercept)   5.0128    0.0350  143.4121  0.0000\n",
      "         Month  -0.0968    0.0019  -49.7577  0.0000\n",
      "    DayofMonth  -0.0109    0.0008  -14.3753  0.0000\n",
      "     DayOfWeek  -0.2690    0.0034  -80.1339  0.0000\n",
      "       DepTime   0.0041    0.0001   68.4378  0.0000\n",
      "    CRSDepTime  -0.0043    0.0001  -72.1445  0.0000\n",
      "    CRSArrTime   0.0006    0.0000   24.3569  0.0000\n",
      "CRSElapsedTime  -0.0772    0.0005 -160.8974  0.0000\n",
      "      DepDelay   0.8958    0.0003 2732.5901  0.0000\n",
      "      Distance   0.0082    0.0001  139.4971  0.0000\n",
      "\n",
      "(Dispersion parameter for gaussian family taken to be 185.1975)\n",
      "   Null deviance: 2225752549.4102 on 4102586 degrees of freedom\n",
      "Residual deviance: 759788855.4988 on 4102586 degrees of freedom\n",
      "AIC: 33064064.4876\n",
      "CPU times: user 49.4 ms, sys: 23.4 ms, total: 72.8 ms\n",
      "Wall time: 6min 10s\n"
     ]
    }
   ],
   "source": [
    "%%time\n",
    "from pyspark.ml.regression import GeneralizedLinearRegression\n",
    "\n",
    "(train_data, test_data) = model_data.randomSplit([0.8, 0.2])\n",
    "\n",
    "glr=GeneralizedLinearRegression(labelCol=target_col,family=\"gaussian\",maxIter=10,regParam=0.3)\n",
    "model = glr.fit(train_data)\n",
    "\n",
    "print(\"Coefficients: \", model.coefficients)\n",
    "print(\"Intercept: \", model.intercept)\n",
    "\n",
    "print(model.summary)"
   ]
  },
  {
   "cell_type": "markdown",
   "metadata": {},
   "source": [
    "#### Site with really good examples https://towardsdatascience.com/building-a-linear-regression-with-pyspark-and-mllib-d065c3ba246a"
   ]
  },
  {
   "cell_type": "code",
   "execution_count": 130,
   "metadata": {},
   "outputs": [
    {
     "name": "stdout",
     "output_type": "stream",
     "text": [
      "Coefficients: [-0.03560565238442641,0.0,-0.15139064142555256,0.0,0.0,0.0,-0.007996341233784475,0.896223376264238,0.0]\n",
      "Intercept: 2.3172655781620057\n",
      "RMSE: 13.679080\n",
      "r2: 0.655098\n"
     ]
    }
   ],
   "source": [
    "from pyspark.ml.regression import LinearRegression\n",
    "\n",
    "lr = LinearRegression(featuresCol = 'features', labelCol=target_col, maxIter=10, regParam=0.3, elasticNetParam=0.8)\n",
    "lr_model = lr.fit(train_data)\n",
    "print(\"Coefficients: \" + str(lr_model.coefficients))\n",
    "print(\"Intercept: \" + str(lr_model.intercept))\n",
    "\n",
    "trainingSummary = lr_model.summary\n",
    "print(\"RMSE: %f\" % trainingSummary.rootMeanSquaredError)\n",
    "print(\"r2: %f\" % trainingSummary.r2)"
   ]
  },
  {
   "cell_type": "code",
   "execution_count": 133,
   "metadata": {},
   "outputs": [
    {
     "name": "stdout",
     "output_type": "stream",
     "text": [
      "Root Mean Squared Error (RMSE) on test data = 13.8532\n",
      "CPU times: user 99 ms, sys: 45.3 ms, total: 144 ms\n",
      "Wall time: 12min 57s\n"
     ]
    }
   ],
   "source": [
    "%%time\n",
    "from pyspark.ml.regression import GBTRegressor\n",
    "from pyspark.ml.evaluation import RegressionEvaluator\n",
    "\n",
    "gbt = GBTRegressor(featuresCol = 'features', labelCol = target_col, maxIter=10)\n",
    "gbt_model = gbt.fit(train_data)\n",
    "gbt_predictions = gbt_model.transform(test_data)\n",
    "# gbt_predictions.select('prediction', target_col, 'features').show(5)\n",
    "\n",
    "gbt_evaluator = RegressionEvaluator(\n",
    "    labelCol=target_col, predictionCol=\"prediction\", metricName=\"rmse\")\n",
    "rmse = gbt_evaluator.evaluate(gbt_predictions)\n",
    "print(\"Root Mean Squared Error (RMSE) on test data = %g\" % rmse)"
   ]
  }
 ],
 "metadata": {
  "kernelspec": {
   "display_name": "Python 3",
   "language": "python",
   "name": "python3"
  },
  "language_info": {
   "codemirror_mode": {
    "name": "ipython",
    "version": 3
   },
   "file_extension": ".py",
   "mimetype": "text/x-python",
   "name": "python",
   "nbconvert_exporter": "python",
   "pygments_lexer": "ipython3",
   "version": "3.7.4"
  }
 },
 "nbformat": 4,
 "nbformat_minor": 2
}
